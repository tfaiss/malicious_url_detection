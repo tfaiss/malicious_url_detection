{
 "cells": [
  {
   "cell_type": "code",
   "execution_count": 31,
   "id": "cc3df752",
   "metadata": {},
   "outputs": [],
   "source": [
    "# EDA Packages\n",
    "import pandas as pd\n",
    "\n",
    "from urllib.parse import urlparse\n",
    "\n",
    "# sklearn libraries\n",
    "from sklearn.feature_extraction.text import TfidfVectorizer\n",
    "from sklearn.linear_model import LogisticRegression\n",
    "from sklearn.model_selection import train_test_split\n",
    "\n",
    "# deployment libraries\n",
    "import pickle\n"
   ]
  },
  {
   "cell_type": "code",
   "execution_count": 32,
   "id": "bdf3ff6f",
   "metadata": {},
   "outputs": [],
   "source": [
    "# Load URL Data \n",
    "urls_data = pd.read_csv(\"data/urldata.csv\")"
   ]
  },
  {
   "cell_type": "code",
   "execution_count": 33,
   "id": "6f9cd8a0",
   "metadata": {},
   "outputs": [
    {
     "data": {
      "text/plain": [
       "pandas.core.frame.DataFrame"
      ]
     },
     "execution_count": 33,
     "metadata": {},
     "output_type": "execute_result"
    }
   ],
   "source": [
    "type(urls_data)"
   ]
  },
  {
   "cell_type": "code",
   "execution_count": 34,
   "id": "cd6f4009",
   "metadata": {},
   "outputs": [
    {
     "data": {
      "text/html": [
       "<div>\n",
       "<style scoped>\n",
       "    .dataframe tbody tr th:only-of-type {\n",
       "        vertical-align: middle;\n",
       "    }\n",
       "\n",
       "    .dataframe tbody tr th {\n",
       "        vertical-align: top;\n",
       "    }\n",
       "\n",
       "    .dataframe thead th {\n",
       "        text-align: right;\n",
       "    }\n",
       "</style>\n",
       "<table border=\"1\" class=\"dataframe\">\n",
       "  <thead>\n",
       "    <tr style=\"text-align: right;\">\n",
       "      <th></th>\n",
       "      <th>url</th>\n",
       "      <th>label</th>\n",
       "    </tr>\n",
       "  </thead>\n",
       "  <tbody>\n",
       "    <tr>\n",
       "      <th>0</th>\n",
       "      <td>diaryofagameaddict.com</td>\n",
       "      <td>bad</td>\n",
       "    </tr>\n",
       "    <tr>\n",
       "      <th>1</th>\n",
       "      <td>espdesign.com.au</td>\n",
       "      <td>bad</td>\n",
       "    </tr>\n",
       "    <tr>\n",
       "      <th>2</th>\n",
       "      <td>iamagameaddict.com</td>\n",
       "      <td>bad</td>\n",
       "    </tr>\n",
       "    <tr>\n",
       "      <th>3</th>\n",
       "      <td>kalantzis.net</td>\n",
       "      <td>bad</td>\n",
       "    </tr>\n",
       "    <tr>\n",
       "      <th>4</th>\n",
       "      <td>slightlyoffcenter.net</td>\n",
       "      <td>bad</td>\n",
       "    </tr>\n",
       "  </tbody>\n",
       "</table>\n",
       "</div>"
      ],
      "text/plain": [
       "                      url label\n",
       "0  diaryofagameaddict.com   bad\n",
       "1        espdesign.com.au   bad\n",
       "2      iamagameaddict.com   bad\n",
       "3           kalantzis.net   bad\n",
       "4   slightlyoffcenter.net   bad"
      ]
     },
     "execution_count": 34,
     "metadata": {},
     "output_type": "execute_result"
    }
   ],
   "source": [
    "urls_data.head()"
   ]
  },
  {
   "cell_type": "code",
   "execution_count": 35,
   "id": "67347ac1",
   "metadata": {},
   "outputs": [],
   "source": [
    "def makeTokens(f):\n",
    "    tokens_slash = str(f.encode('utf-8')).split('/') # make tokens after splitting by slash\n",
    "    total_tokens = []\n",
    "    scheme = \"\"\n",
    "    url_parsed = urlparse(f)\n",
    "    scheme = url_parsed.scheme\n",
    "    for i in tokens_slash:\n",
    "        # split tokens by dash character\n",
    "        tokens = str(i).split('-') \n",
    "        tokens_dot = []\n",
    "        for j in range(0,len(tokens)):\n",
    "            # split tokens by dot\n",
    "            temp_tokens = str(tokens[j]).split('.') \n",
    "            tokens_dot = tokens_dot + temp_tokens\n",
    "        total_tokens = list(scheme) + total_tokens + tokens + tokens_dot\n",
    "    total_tokens = list(set(total_tokens)) #remove redundant tokens\n",
    "    if 'com' in total_tokens:\n",
    "        total_tokens.remove('com') #removing .com since it occurs a lot of times and it should not be included in our features\n",
    "    return total_tokens"
   ]
  },
  {
   "cell_type": "code",
   "execution_count": 36,
   "id": "7f30bece",
   "metadata": {},
   "outputs": [],
   "source": [
    "# Features and Labels\n",
    "url_list = urls_data[\"url\"]\n",
    "y = urls_data[\"label\"]"
   ]
  },
  {
   "cell_type": "code",
   "execution_count": 37,
   "id": "daae20df",
   "metadata": {},
   "outputs": [],
   "source": [
    "# using custom tokenizer\n",
    "\n",
    "vectorizer = TfidfVectorizer(tokenizer=makeTokens)"
   ]
  },
  {
   "cell_type": "code",
   "execution_count": 38,
   "id": "0bccec56",
   "metadata": {},
   "outputs": [],
   "source": [
    "# Store vectors into X variable as Our XFeatures\n",
    "X = vectorizer.fit_transform(url_list)"
   ]
  },
  {
   "cell_type": "code",
   "execution_count": 39,
   "id": "30e87da2",
   "metadata": {},
   "outputs": [],
   "source": [
    "# reviewing values\n"
   ]
  },
  {
   "cell_type": "code",
   "execution_count": 40,
   "id": "f71b4b08",
   "metadata": {},
   "outputs": [],
   "source": [
    "X_train, X_test, y_train, y_test = train_test_split(X, y, test_size=0.2, random_state=42)"
   ]
  },
  {
   "cell_type": "code",
   "execution_count": 41,
   "id": "efabf8ab",
   "metadata": {},
   "outputs": [
    {
     "data": {
      "text/plain": [
       "LogisticRegression(max_iter=500)"
      ]
     },
     "execution_count": 41,
     "metadata": {},
     "output_type": "execute_result"
    }
   ],
   "source": [
    "# Model Building\n",
    "#using logistic regression\n",
    "logit = LogisticRegression(max_iter=500)\n",
    "logit.fit(X_train, y_train)"
   ]
  },
  {
   "cell_type": "code",
   "execution_count": 42,
   "id": "db22ea46",
   "metadata": {},
   "outputs": [
    {
     "name": "stdout",
     "output_type": "stream",
     "text": [
      "Accuracy  0.9616733854185248\n"
     ]
    }
   ],
   "source": [
    "# Accuracy of Our Model\n",
    "print(\"Accuracy \",logit.score(X_test, y_test))"
   ]
  },
  {
   "cell_type": "code",
   "execution_count": 43,
   "id": "939bb10d",
   "metadata": {},
   "outputs": [],
   "source": [
    "X_predict = [\"https://www.section.io/engineering-education/\",\n",
    "\"https://www.youtube.com/\",\n",
    "\"https://www.traversymedia.com/\", \n",
    "\"https://www.kleinehundezuhause.com \", \n",
    "\"http://ttps://www.mecymiafinance.com  \",\n",
    "\"https://www.atlanticoceanicoilandgas.com \"]"
   ]
  },
  {
   "cell_type": "code",
   "execution_count": 44,
   "id": "53e5e54c",
   "metadata": {},
   "outputs": [],
   "source": [
    "X_predict = vectorizer.transform(X_predict)\n",
    "New_predict = logit.predict(X_predict)"
   ]
  },
  {
   "cell_type": "code",
   "execution_count": 45,
   "id": "eae35434",
   "metadata": {},
   "outputs": [
    {
     "name": "stdout",
     "output_type": "stream",
     "text": [
      "['good' 'good' 'good' 'bad' 'bad' 'bad']\n"
     ]
    }
   ],
   "source": [
    "print(New_predict)"
   ]
  },
  {
   "cell_type": "code",
   "execution_count": 46,
   "id": "ff9387d0",
   "metadata": {},
   "outputs": [],
   "source": [
    "# https://db.aa419.org/fakebankslist.php\n",
    "X_predict1 = [\n",
    "    \"www.buyfakebillsonlinee.blogspot.com\", \n",
    "    \"www.unitedairlineslogistics.com\",\n",
    "    \"www.stonehousedelivery.com\",\n",
    "    \"http://en.wikipedia.org\",\n",
    "    \"http://tobiasfaiss.com/test\"\n",
    "]"
   ]
  },
  {
   "cell_type": "code",
   "execution_count": 47,
   "id": "e6f306e9",
   "metadata": {},
   "outputs": [
    {
     "name": "stdout",
     "output_type": "stream",
     "text": [
      "['bad' 'bad' 'bad' 'good' 'bad']\n"
     ]
    }
   ],
   "source": [
    "X_predict1 = vectorizer.transform(X_predict1)\n",
    "New_predict1 = logit.predict(X_predict1)\n",
    "print(New_predict1)"
   ]
  },
  {
   "cell_type": "code",
   "execution_count": 48,
   "id": "ac07d7a9",
   "metadata": {},
   "outputs": [],
   "source": [
    "X_predict2 = [\n",
    "    \"https://serialz.com\"\n",
    "]"
   ]
  },
  {
   "cell_type": "code",
   "execution_count": 49,
   "id": "db601323",
   "metadata": {},
   "outputs": [
    {
     "name": "stdout",
     "output_type": "stream",
     "text": [
      "['bad']\n"
     ]
    }
   ],
   "source": [
    "X_predict2 = vectorizer.transform(X_predict2)\n",
    "New_predict2 = logit.predict(X_predict2)\n",
    "print(New_predict2)"
   ]
  },
  {
   "cell_type": "code",
   "execution_count": 50,
   "id": "f9bdfb10",
   "metadata": {},
   "outputs": [],
   "source": [
    "filename = \"url_detection.pkl\""
   ]
  },
  {
   "cell_type": "code",
   "execution_count": 51,
   "id": "b1bf1f04",
   "metadata": {},
   "outputs": [],
   "source": [
    "pickle.dump(logit, open(filename, 'wb')) #save model\n",
    "pickle.dump(vectorizer, open(\"vectorizer.pkl\", \"wb\")) #Save vectorizer\n"
   ]
  },
  {
   "cell_type": "code",
   "execution_count": 52,
   "id": "eac1f3fd",
   "metadata": {},
   "outputs": [
    {
     "name": "stdout",
     "output_type": "stream",
     "text": [
      "0.9616733854185248\n"
     ]
    }
   ],
   "source": [
    "loaded_model = pickle.load(open(filename, 'rb'))\n",
    "result = loaded_model.score(X_test, y_test)\n",
    "print(result)"
   ]
  },
  {
   "cell_type": "code",
   "execution_count": null,
   "id": "3cb26d68",
   "metadata": {},
   "outputs": [],
   "source": []
  }
 ],
 "metadata": {
  "kernelspec": {
   "display_name": "Python 3 (ipykernel)",
   "language": "python",
   "name": "python3"
  },
  "language_info": {
   "codemirror_mode": {
    "name": "ipython",
    "version": 3
   },
   "file_extension": ".py",
   "mimetype": "text/x-python",
   "name": "python",
   "nbconvert_exporter": "python",
   "pygments_lexer": "ipython3",
   "version": "3.9.12"
  },
  "vscode": {
   "interpreter": {
    "hash": "c24ef5f445f2276c39659ad5031c24b0bf2280a0a836e40da519521c36ff6394"
   }
  }
 },
 "nbformat": 4,
 "nbformat_minor": 5
}
